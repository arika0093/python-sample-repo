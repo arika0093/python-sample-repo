{
 "cells": [
  {
   "cell_type": "code",
   "execution_count": 1,
   "metadata": {},
   "outputs": [],
   "source": [
    "import polars as pl"
   ]
  },
  {
   "cell_type": "code",
   "execution_count": 2,
   "metadata": {},
   "outputs": [],
   "source": [
    "PATH=\"https://gist.githubusercontent.com/armgilles/194bcff35001e7eb53a2a8b441e8b2c6/raw/92200bc0a673d5ce2110aaad4544ed6c4010f687/pokemon.csv\"\n",
    "df = pl.read_csv(PATH)"
   ]
  },
  {
   "cell_type": "code",
   "execution_count": 3,
   "metadata": {},
   "outputs": [
    {
     "data": {
      "text/html": [
       "<div><style>\n",
       ".dataframe > thead > tr > th,\n",
       ".dataframe > tbody > tr > td {\n",
       "  text-align: right;\n",
       "  white-space: pre-wrap;\n",
       "}\n",
       "</style>\n",
       "<small>shape: (800, 13)</small><table border=\"1\" class=\"dataframe\"><thead><tr><th>#</th><th>Name</th><th>Type 1</th><th>Type 2</th><th>Total</th><th>HP</th><th>Attack</th><th>Defense</th><th>Sp. Atk</th><th>Sp. Def</th><th>Speed</th><th>Generation</th><th>Legendary</th></tr><tr><td>i64</td><td>str</td><td>str</td><td>str</td><td>i64</td><td>i64</td><td>i64</td><td>i64</td><td>i64</td><td>i64</td><td>i64</td><td>i64</td><td>bool</td></tr></thead><tbody><tr><td>1</td><td>&quot;Bulbasaur&quot;</td><td>&quot;Grass&quot;</td><td>&quot;Poison&quot;</td><td>318</td><td>45</td><td>49</td><td>49</td><td>65</td><td>65</td><td>45</td><td>1</td><td>false</td></tr><tr><td>2</td><td>&quot;Ivysaur&quot;</td><td>&quot;Grass&quot;</td><td>&quot;Poison&quot;</td><td>405</td><td>60</td><td>62</td><td>63</td><td>80</td><td>80</td><td>60</td><td>1</td><td>false</td></tr><tr><td>3</td><td>&quot;Venusaur&quot;</td><td>&quot;Grass&quot;</td><td>&quot;Poison&quot;</td><td>525</td><td>80</td><td>82</td><td>83</td><td>100</td><td>100</td><td>80</td><td>1</td><td>false</td></tr><tr><td>3</td><td>&quot;VenusaurMega V…</td><td>&quot;Grass&quot;</td><td>&quot;Poison&quot;</td><td>625</td><td>80</td><td>100</td><td>123</td><td>122</td><td>120</td><td>80</td><td>1</td><td>false</td></tr><tr><td>4</td><td>&quot;Charmander&quot;</td><td>&quot;Fire&quot;</td><td>null</td><td>309</td><td>39</td><td>52</td><td>43</td><td>60</td><td>50</td><td>65</td><td>1</td><td>false</td></tr><tr><td>5</td><td>&quot;Charmeleon&quot;</td><td>&quot;Fire&quot;</td><td>null</td><td>405</td><td>58</td><td>64</td><td>58</td><td>80</td><td>65</td><td>80</td><td>1</td><td>false</td></tr><tr><td>6</td><td>&quot;Charizard&quot;</td><td>&quot;Fire&quot;</td><td>&quot;Flying&quot;</td><td>534</td><td>78</td><td>84</td><td>78</td><td>109</td><td>85</td><td>100</td><td>1</td><td>false</td></tr><tr><td>6</td><td>&quot;CharizardMega …</td><td>&quot;Fire&quot;</td><td>&quot;Dragon&quot;</td><td>634</td><td>78</td><td>130</td><td>111</td><td>130</td><td>85</td><td>100</td><td>1</td><td>false</td></tr><tr><td>6</td><td>&quot;CharizardMega …</td><td>&quot;Fire&quot;</td><td>&quot;Flying&quot;</td><td>634</td><td>78</td><td>104</td><td>78</td><td>159</td><td>115</td><td>100</td><td>1</td><td>false</td></tr><tr><td>7</td><td>&quot;Squirtle&quot;</td><td>&quot;Water&quot;</td><td>null</td><td>314</td><td>44</td><td>48</td><td>65</td><td>50</td><td>64</td><td>43</td><td>1</td><td>false</td></tr><tr><td>8</td><td>&quot;Wartortle&quot;</td><td>&quot;Water&quot;</td><td>null</td><td>405</td><td>59</td><td>63</td><td>80</td><td>65</td><td>80</td><td>58</td><td>1</td><td>false</td></tr><tr><td>9</td><td>&quot;Blastoise&quot;</td><td>&quot;Water&quot;</td><td>null</td><td>530</td><td>79</td><td>83</td><td>100</td><td>85</td><td>105</td><td>78</td><td>1</td><td>false</td></tr><tr><td>&hellip;</td><td>&hellip;</td><td>&hellip;</td><td>&hellip;</td><td>&hellip;</td><td>&hellip;</td><td>&hellip;</td><td>&hellip;</td><td>&hellip;</td><td>&hellip;</td><td>&hellip;</td><td>&hellip;</td><td>&hellip;</td></tr><tr><td>712</td><td>&quot;Bergmite&quot;</td><td>&quot;Ice&quot;</td><td>null</td><td>304</td><td>55</td><td>69</td><td>85</td><td>32</td><td>35</td><td>28</td><td>6</td><td>false</td></tr><tr><td>713</td><td>&quot;Avalugg&quot;</td><td>&quot;Ice&quot;</td><td>null</td><td>514</td><td>95</td><td>117</td><td>184</td><td>44</td><td>46</td><td>28</td><td>6</td><td>false</td></tr><tr><td>714</td><td>&quot;Noibat&quot;</td><td>&quot;Flying&quot;</td><td>&quot;Dragon&quot;</td><td>245</td><td>40</td><td>30</td><td>35</td><td>45</td><td>40</td><td>55</td><td>6</td><td>false</td></tr><tr><td>715</td><td>&quot;Noivern&quot;</td><td>&quot;Flying&quot;</td><td>&quot;Dragon&quot;</td><td>535</td><td>85</td><td>70</td><td>80</td><td>97</td><td>80</td><td>123</td><td>6</td><td>false</td></tr><tr><td>716</td><td>&quot;Xerneas&quot;</td><td>&quot;Fairy&quot;</td><td>null</td><td>680</td><td>126</td><td>131</td><td>95</td><td>131</td><td>98</td><td>99</td><td>6</td><td>true</td></tr><tr><td>717</td><td>&quot;Yveltal&quot;</td><td>&quot;Dark&quot;</td><td>&quot;Flying&quot;</td><td>680</td><td>126</td><td>131</td><td>95</td><td>131</td><td>98</td><td>99</td><td>6</td><td>true</td></tr><tr><td>718</td><td>&quot;Zygarde50% For…</td><td>&quot;Dragon&quot;</td><td>&quot;Ground&quot;</td><td>600</td><td>108</td><td>100</td><td>121</td><td>81</td><td>95</td><td>95</td><td>6</td><td>true</td></tr><tr><td>719</td><td>&quot;Diancie&quot;</td><td>&quot;Rock&quot;</td><td>&quot;Fairy&quot;</td><td>600</td><td>50</td><td>100</td><td>150</td><td>100</td><td>150</td><td>50</td><td>6</td><td>true</td></tr><tr><td>719</td><td>&quot;DiancieMega Di…</td><td>&quot;Rock&quot;</td><td>&quot;Fairy&quot;</td><td>700</td><td>50</td><td>160</td><td>110</td><td>160</td><td>110</td><td>110</td><td>6</td><td>true</td></tr><tr><td>720</td><td>&quot;HoopaHoopa Con…</td><td>&quot;Psychic&quot;</td><td>&quot;Ghost&quot;</td><td>600</td><td>80</td><td>110</td><td>60</td><td>150</td><td>130</td><td>70</td><td>6</td><td>true</td></tr><tr><td>720</td><td>&quot;HoopaHoopa Unb…</td><td>&quot;Psychic&quot;</td><td>&quot;Dark&quot;</td><td>680</td><td>80</td><td>160</td><td>60</td><td>170</td><td>130</td><td>80</td><td>6</td><td>true</td></tr><tr><td>721</td><td>&quot;Volcanion&quot;</td><td>&quot;Fire&quot;</td><td>&quot;Water&quot;</td><td>600</td><td>80</td><td>110</td><td>120</td><td>130</td><td>90</td><td>70</td><td>6</td><td>true</td></tr></tbody></table></div>"
      ],
      "text/plain": [
       "shape: (800, 13)\n",
       "┌─────┬───────────────────────┬─────────┬────────┬───┬─────────┬───────┬────────────┬───────────┐\n",
       "│ #   ┆ Name                  ┆ Type 1  ┆ Type 2 ┆ … ┆ Sp. Def ┆ Speed ┆ Generation ┆ Legendary │\n",
       "│ --- ┆ ---                   ┆ ---     ┆ ---    ┆   ┆ ---     ┆ ---   ┆ ---        ┆ ---       │\n",
       "│ i64 ┆ str                   ┆ str     ┆ str    ┆   ┆ i64     ┆ i64   ┆ i64        ┆ bool      │\n",
       "╞═════╪═══════════════════════╪═════════╪════════╪═══╪═════════╪═══════╪════════════╪═══════════╡\n",
       "│ 1   ┆ Bulbasaur             ┆ Grass   ┆ Poison ┆ … ┆ 65      ┆ 45    ┆ 1          ┆ false     │\n",
       "│ 2   ┆ Ivysaur               ┆ Grass   ┆ Poison ┆ … ┆ 80      ┆ 60    ┆ 1          ┆ false     │\n",
       "│ 3   ┆ Venusaur              ┆ Grass   ┆ Poison ┆ … ┆ 100     ┆ 80    ┆ 1          ┆ false     │\n",
       "│ 3   ┆ VenusaurMega Venusaur ┆ Grass   ┆ Poison ┆ … ┆ 120     ┆ 80    ┆ 1          ┆ false     │\n",
       "│ …   ┆ …                     ┆ …       ┆ …      ┆ … ┆ …       ┆ …     ┆ …          ┆ …         │\n",
       "│ 719 ┆ DiancieMega Diancie   ┆ Rock    ┆ Fairy  ┆ … ┆ 110     ┆ 110   ┆ 6          ┆ true      │\n",
       "│ 720 ┆ HoopaHoopa Confined   ┆ Psychic ┆ Ghost  ┆ … ┆ 130     ┆ 70    ┆ 6          ┆ true      │\n",
       "│ 720 ┆ HoopaHoopa Unbound    ┆ Psychic ┆ Dark   ┆ … ┆ 130     ┆ 80    ┆ 6          ┆ true      │\n",
       "│ 721 ┆ Volcanion             ┆ Fire    ┆ Water  ┆ … ┆ 90      ┆ 70    ┆ 6          ┆ true      │\n",
       "└─────┴───────────────────────┴─────────┴────────┴───┴─────────┴───────┴────────────┴───────────┘"
      ]
     },
     "execution_count": 3,
     "metadata": {},
     "output_type": "execute_result"
    }
   ],
   "source": [
    "df"
   ]
  },
  {
   "cell_type": "code",
   "execution_count": 1,
   "metadata": {},
   "outputs": [],
   "source": [
    "from dataclasses import dataclass"
   ]
  },
  {
   "cell_type": "code",
   "execution_count": null,
   "metadata": {},
   "outputs": [],
   "source": []
  }
 ],
 "metadata": {
  "kernelspec": {
   "display_name": "Python 3",
   "language": "python",
   "name": "python3"
  },
  "language_info": {
   "codemirror_mode": {
    "name": "ipython",
    "version": 3
   },
   "file_extension": ".py",
   "mimetype": "text/x-python",
   "name": "python",
   "nbconvert_exporter": "python",
   "pygments_lexer": "ipython3",
   "version": "3.11.6"
  },
  "orig_nbformat": 4
 },
 "nbformat": 4,
 "nbformat_minor": 2
}
